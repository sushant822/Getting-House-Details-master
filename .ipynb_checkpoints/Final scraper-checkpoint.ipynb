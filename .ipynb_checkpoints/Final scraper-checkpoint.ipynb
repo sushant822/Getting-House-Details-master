{
 "cells": [
  {
   "cell_type": "code",
   "execution_count": 2,
   "metadata": {},
   "outputs": [
    {
     "name": "stdout",
     "output_type": "stream",
     "text": [
      "Libraries imported!\n"
     ]
    }
   ],
   "source": [
    "import pandas as pd\n",
    "import numpy as np\n",
    "import requests\n",
    "from bs4 import BeautifulSoup\n",
    "import time\n",
    "from math import sin, cos, sqrt, atan2, radians\n",
    "import warnings\n",
    "warnings.filterwarnings('ignore')\n",
    "print('Libraries imported!')"
   ]
  },
  {
   "cell_type": "code",
   "execution_count": 3,
   "metadata": {},
   "outputs": [],
   "source": [
    "house_address_all = []\n",
    "house_details_all = []\n",
    "house_address = []\n",
    "house_details = []\n",
    "postal_code_array = []\n",
    "latitude_array = []\n",
    "longitude_array = []\n",
    "year_built_array = []\n",
    "payment_monthly = []\n",
    "\n",
    "base_url = 'https://www.remax.ca/ab/calgary-real-estate?page='\n",
    "urls = [base_url + str(x) for x in range(1,5)]\n",
    "\n",
    "for url in urls:\n",
    "    \n",
    "    #browser.visit(url)\n",
    "    time.sleep(5)\n",
    "\n",
    "    # Parse HTML with Beautiful Soup\n",
    "    response = requests.get(url)\n",
    "    soup = BeautifulSoup(response.text, 'html.parser')\n",
    "    \n",
    "    time.sleep(5)\n",
    "\n",
    "    try:\n",
    "        addresses = soup.find_all('div', class_='left-content flex-one')\n",
    "        for address in addresses:\n",
    "            house_address_all.append(address.text)\n",
    "    except:\n",
    "        house_address_all.append('None')\n",
    "        \n",
    "    time.sleep(5)\n",
    "        \n",
    "    try:\n",
    "        details = soup.find_all('div', class_='property-details')\n",
    "        for detail in details:\n",
    "            house_details_all.append(detail.text)\n",
    "    except:\n",
    "        house_details_all.append('None')\n",
    "        \n",
    "    time.sleep(5)\n",
    "        \n",
    "    house_details_more=[]\n",
    "    url_house = []\n",
    "        \n",
    "    try:\n",
    "        for detail in soup.find_all('a'):\n",
    "            house_details_more.append(detail.get('href'))\n",
    "    except:\n",
    "        house_details_more.append('None')\n",
    "    \n",
    "    time.sleep(5)\n",
    "\n",
    "    for i in house_details_more:\n",
    "        if '/ab/calgary-real-estate/' in str(i):\n",
    "            link = 'https://www.remax.ca' + str(i)\n",
    "            url_house.append(link)\n",
    "            \n",
    "    time.sleep(5)\n",
    "    \n",
    "    for i in url_house:\n",
    "    \n",
    "        time.sleep(5)\n",
    "\n",
    "        page = requests.get(i)\n",
    "        soup = BeautifulSoup(page.text, \"html.parser\")\n",
    "\n",
    "        lat_all = soup.find_all('script')[4]\n",
    "\n",
    "        string = ', '.join(lat_all)\n",
    "        pc = \"postalCode\"\n",
    "        position_pc = string.find(pc)\n",
    "        pcd = string[(position_pc+14):(position_pc+21)]\n",
    "        postal_code_array.append(pcd)\n",
    "\n",
    "        lat = \"latitude\"\n",
    "        position_lat = string.find(lat)\n",
    "        latd = string[(position_lat+11):(position_lat+20)]\n",
    "        latitude_array.append(latd)\n",
    "\n",
    "        long = \"longitude\"\n",
    "        position_long = string.find(long)\n",
    "        longd = string[(position_long+12):(position_long+23)]\n",
    "        longitude_array.append(longd)\n",
    "\n",
    "        house_address = []\n",
    "\n",
    "        time.sleep(5)\n",
    "\n",
    "        try:\n",
    "            addresses = soup.find_all('section', class_='property-details')\n",
    "            for address in addresses:\n",
    "                house_address.append(address.text)\n",
    "        except:\n",
    "            house_address.append('None')\n",
    "\n",
    "        time.sleep(5)\n",
    "\n",
    "        string = ', '.join(house_address)\n",
    "        s_year = \"Year Built\"\n",
    "        position_year = string.find(s_year)\n",
    "        year_built = string[(position_year+12):(position_year+16)]\n",
    "        year_built_array.append(year_built)\n",
    "        \n",
    "        try:\n",
    "            payment = soup.find(class_=\"payment-amount\").text\n",
    "            payment_monthly.append(payment)\n",
    "        except:\n",
    "            payment_monthly.append('None')\n",
    "\n",
    "        time.sleep(5)"
   ]
  },
  {
   "cell_type": "code",
   "execution_count": 62,
   "metadata": {},
   "outputs": [
    {
     "data": {
      "text/html": [
       "<div>\n",
       "<style scoped>\n",
       "    .dataframe tbody tr th:only-of-type {\n",
       "        vertical-align: middle;\n",
       "    }\n",
       "\n",
       "    .dataframe tbody tr th {\n",
       "        vertical-align: top;\n",
       "    }\n",
       "\n",
       "    .dataframe thead th {\n",
       "        text-align: right;\n",
       "    }\n",
       "</style>\n",
       "<table border=\"1\" class=\"dataframe\">\n",
       "  <thead>\n",
       "    <tr style=\"text-align: right;\">\n",
       "      <th></th>\n",
       "      <th>2</th>\n",
       "      <th>price</th>\n",
       "    </tr>\n",
       "  </thead>\n",
       "  <tbody>\n",
       "    <tr>\n",
       "      <th>0</th>\n",
       "      <td>4312 49 ST NE, Calgary, AB, T1Y 2Z3</td>\n",
       "      <td>329900</td>\n",
       "    </tr>\n",
       "    <tr>\n",
       "      <th>1</th>\n",
       "      <td>108 TUSCANY VALLEY DR NW, Calgary, AB, T3L 2E7</td>\n",
       "      <td>425000</td>\n",
       "    </tr>\n",
       "    <tr>\n",
       "      <th>2</th>\n",
       "      <td>2107 - 450 SAGE VALLEY DR NW, Calgary, AB, T3R...</td>\n",
       "      <td>234900</td>\n",
       "    </tr>\n",
       "    <tr>\n",
       "      <th>3</th>\n",
       "      <td>6852 RUNDLEHORN DR NE, Calgary, AB, T1Y 3V2</td>\n",
       "      <td>369000</td>\n",
       "    </tr>\n",
       "    <tr>\n",
       "      <th>4</th>\n",
       "      <td>27 MIDRIDGE CLOSE SE, Calgary, AB, T2X 1G2</td>\n",
       "      <td>424900</td>\n",
       "    </tr>\n",
       "  </tbody>\n",
       "</table>\n",
       "</div>"
      ],
      "text/plain": [
       "                                                   2   price\n",
       "0                4312 49 ST NE, Calgary, AB, T1Y 2Z3  329900\n",
       "1     108 TUSCANY VALLEY DR NW, Calgary, AB, T3L 2E7  425000\n",
       "2  2107 - 450 SAGE VALLEY DR NW, Calgary, AB, T3R...  234900\n",
       "3        6852 RUNDLEHORN DR NE, Calgary, AB, T1Y 3V2  369000\n",
       "4         27 MIDRIDGE CLOSE SE, Calgary, AB, T2X 1G2  424900"
      ]
     },
     "execution_count": 62,
     "metadata": {},
     "output_type": "execute_result"
    }
   ],
   "source": [
    "address_df = pd.DataFrame(house_address_all)\n",
    "\n",
    "new_df = address_df[0].str.split(' ', 2, expand=True)\n",
    "new_df[\"price\"] = new_df[1].str.replace(\"$\", \"\")\n",
    "new_df[\"price\"] = new_df[\"price\"].str.replace(\",\", \"\")\n",
    "new_df[\"price\"] = pd.to_numeric(new_df[\"price\"])\n",
    "\n",
    "del new_df[0]\n",
    "del new_df[1]\n",
    "new_df.head()"
   ]
  },
  {
   "cell_type": "code",
   "execution_count": 63,
   "metadata": {},
   "outputs": [
    {
     "data": {
      "text/html": [
       "<div>\n",
       "<style scoped>\n",
       "    .dataframe tbody tr th:only-of-type {\n",
       "        vertical-align: middle;\n",
       "    }\n",
       "\n",
       "    .dataframe tbody tr th {\n",
       "        vertical-align: top;\n",
       "    }\n",
       "\n",
       "    .dataframe thead th {\n",
       "        text-align: right;\n",
       "    }\n",
       "</style>\n",
       "<table border=\"1\" class=\"dataframe\">\n",
       "  <thead>\n",
       "    <tr style=\"text-align: right;\">\n",
       "      <th></th>\n",
       "      <th>0</th>\n",
       "      <th>1</th>\n",
       "    </tr>\n",
       "  </thead>\n",
       "  <tbody>\n",
       "    <tr>\n",
       "      <th>0</th>\n",
       "      <td>4312 49 ST NE</td>\n",
       "      <td>T1Y 2Z3</td>\n",
       "    </tr>\n",
       "    <tr>\n",
       "      <th>1</th>\n",
       "      <td>108 TUSCANY VALLEY DR NW</td>\n",
       "      <td>T3L 2E7</td>\n",
       "    </tr>\n",
       "    <tr>\n",
       "      <th>2</th>\n",
       "      <td>2107 - 450 SAGE VALLEY DR NW</td>\n",
       "      <td>T3R 0V5</td>\n",
       "    </tr>\n",
       "    <tr>\n",
       "      <th>3</th>\n",
       "      <td>6852 RUNDLEHORN DR NE</td>\n",
       "      <td>T1Y 3V2</td>\n",
       "    </tr>\n",
       "    <tr>\n",
       "      <th>4</th>\n",
       "      <td>27 MIDRIDGE CLOSE SE</td>\n",
       "      <td>T2X 1G2</td>\n",
       "    </tr>\n",
       "  </tbody>\n",
       "</table>\n",
       "</div>"
      ],
      "text/plain": [
       "                              0        1\n",
       "0                 4312 49 ST NE  T1Y 2Z3\n",
       "1      108 TUSCANY VALLEY DR NW  T3L 2E7\n",
       "2  2107 - 450 SAGE VALLEY DR NW  T3R 0V5\n",
       "3         6852 RUNDLEHORN DR NE  T1Y 3V2\n",
       "4          27 MIDRIDGE CLOSE SE  T2X 1G2"
      ]
     },
     "execution_count": 63,
     "metadata": {},
     "output_type": "execute_result"
    }
   ],
   "source": [
    "final_df_pc = new_df[2].str.split(', Calgary, AB, ', expand=True)\n",
    "final_df_pc.head()"
   ]
  },
  {
   "cell_type": "code",
   "execution_count": 64,
   "metadata": {},
   "outputs": [
    {
     "data": {
      "text/plain": [
       "0    T1Y2Z3\n",
       "1    T3L2E7\n",
       "2    T3R0V5\n",
       "3    T1Y3V2\n",
       "4    T2X1G2\n",
       "Name: 1, dtype: object"
      ]
     },
     "execution_count": 64,
     "metadata": {},
     "output_type": "execute_result"
    }
   ],
   "source": [
    "final_df_pc_clean = final_df_pc[1].str.replace(\" \", \"\")\n",
    "final_df_pc_clean.head()"
   ]
  },
  {
   "cell_type": "code",
   "execution_count": 65,
   "metadata": {},
   "outputs": [
    {
     "data": {
      "text/html": [
       "<div>\n",
       "<style scoped>\n",
       "    .dataframe tbody tr th:only-of-type {\n",
       "        vertical-align: middle;\n",
       "    }\n",
       "\n",
       "    .dataframe tbody tr th {\n",
       "        vertical-align: top;\n",
       "    }\n",
       "\n",
       "    .dataframe thead th {\n",
       "        text-align: right;\n",
       "    }\n",
       "</style>\n",
       "<table border=\"1\" class=\"dataframe\">\n",
       "  <thead>\n",
       "    <tr style=\"text-align: right;\">\n",
       "      <th></th>\n",
       "      <th>price</th>\n",
       "      <th>postal_code</th>\n",
       "      <th>address</th>\n",
       "    </tr>\n",
       "  </thead>\n",
       "  <tbody>\n",
       "    <tr>\n",
       "      <th>0</th>\n",
       "      <td>329900</td>\n",
       "      <td>T1Y2Z3</td>\n",
       "      <td>4312 49 ST NE</td>\n",
       "    </tr>\n",
       "    <tr>\n",
       "      <th>1</th>\n",
       "      <td>425000</td>\n",
       "      <td>T3L2E7</td>\n",
       "      <td>108 TUSCANY VALLEY DR NW</td>\n",
       "    </tr>\n",
       "    <tr>\n",
       "      <th>2</th>\n",
       "      <td>234900</td>\n",
       "      <td>T3R0V5</td>\n",
       "      <td>2107 - 450 SAGE VALLEY DR NW</td>\n",
       "    </tr>\n",
       "    <tr>\n",
       "      <th>3</th>\n",
       "      <td>369000</td>\n",
       "      <td>T1Y3V2</td>\n",
       "      <td>6852 RUNDLEHORN DR NE</td>\n",
       "    </tr>\n",
       "    <tr>\n",
       "      <th>4</th>\n",
       "      <td>424900</td>\n",
       "      <td>T2X1G2</td>\n",
       "      <td>27 MIDRIDGE CLOSE SE</td>\n",
       "    </tr>\n",
       "  </tbody>\n",
       "</table>\n",
       "</div>"
      ],
      "text/plain": [
       "    price postal_code                       address\n",
       "0  329900      T1Y2Z3                 4312 49 ST NE\n",
       "1  425000      T3L2E7      108 TUSCANY VALLEY DR NW\n",
       "2  234900      T3R0V5  2107 - 450 SAGE VALLEY DR NW\n",
       "3  369000      T1Y3V2         6852 RUNDLEHORN DR NE\n",
       "4  424900      T2X1G2          27 MIDRIDGE CLOSE SE"
      ]
     },
     "execution_count": 65,
     "metadata": {},
     "output_type": "execute_result"
    }
   ],
   "source": [
    "df_add = pd.concat([new_df, final_df_pc_clean, final_df_pc[0]], axis=1)\n",
    "del df_add[2]\n",
    "df_add.columns = [\"price\", \"postal_code\", \"address\"]\n",
    "df_add.head()"
   ]
  },
  {
   "cell_type": "code",
   "execution_count": 66,
   "metadata": {},
   "outputs": [
    {
     "data": {
      "text/html": [
       "<div>\n",
       "<style scoped>\n",
       "    .dataframe tbody tr th:only-of-type {\n",
       "        vertical-align: middle;\n",
       "    }\n",
       "\n",
       "    .dataframe tbody tr th {\n",
       "        vertical-align: top;\n",
       "    }\n",
       "\n",
       "    .dataframe thead th {\n",
       "        text-align: right;\n",
       "    }\n",
       "</style>\n",
       "<table border=\"1\" class=\"dataframe\">\n",
       "  <thead>\n",
       "    <tr style=\"text-align: right;\">\n",
       "      <th></th>\n",
       "      <th>0</th>\n",
       "      <th>1</th>\n",
       "      <th>2</th>\n",
       "      <th>3</th>\n",
       "    </tr>\n",
       "  </thead>\n",
       "  <tbody>\n",
       "    <tr>\n",
       "      <th>0</th>\n",
       "      <td>4 bed</td>\n",
       "      <td>1 + 1 bath</td>\n",
       "      <td>2300 sqft</td>\n",
       "      <td>house</td>\n",
       "    </tr>\n",
       "    <tr>\n",
       "      <th>1</th>\n",
       "      <td>4 bed</td>\n",
       "      <td>2 + 1 bath</td>\n",
       "      <td>1336 sqft</td>\n",
       "      <td>house</td>\n",
       "    </tr>\n",
       "    <tr>\n",
       "      <th>2</th>\n",
       "      <td>2 bed</td>\n",
       "      <td>2 bath</td>\n",
       "      <td>835 sqft</td>\n",
       "      <td>condo</td>\n",
       "    </tr>\n",
       "    <tr>\n",
       "      <th>3</th>\n",
       "      <td>5 bed</td>\n",
       "      <td>3 bath</td>\n",
       "      <td>1136 sqft</td>\n",
       "      <td>house</td>\n",
       "    </tr>\n",
       "    <tr>\n",
       "      <th>4</th>\n",
       "      <td>3 bed</td>\n",
       "      <td>2 bath</td>\n",
       "      <td>1055 sqft</td>\n",
       "      <td>house</td>\n",
       "    </tr>\n",
       "  </tbody>\n",
       "</table>\n",
       "</div>"
      ],
      "text/plain": [
       "       0           1          2      3\n",
       "0  4 bed  1 + 1 bath  2300 sqft  house\n",
       "1  4 bed  2 + 1 bath  1336 sqft  house\n",
       "2  2 bed      2 bath   835 sqft  condo\n",
       "3  5 bed      3 bath  1136 sqft  house\n",
       "4  3 bed      2 bath  1055 sqft  house"
      ]
     },
     "execution_count": 66,
     "metadata": {},
     "output_type": "execute_result"
    }
   ],
   "source": [
    "details = pd.DataFrame(house_details_all)\n",
    "details_df_temp = details[0].str.split('|', expand=True)\n",
    "details_df_temp.head()"
   ]
  },
  {
   "cell_type": "code",
   "execution_count": 67,
   "metadata": {},
   "outputs": [],
   "source": [
    "details_df_bed = details_df_temp[0].str.replace(' bed', '')\n",
    "details_df_bath = details_df_temp[1].str.replace(' bath', '')\n",
    "details_df_area = details_df_temp[2].str.replace(' sqft', '')"
   ]
  },
  {
   "cell_type": "code",
   "execution_count": 68,
   "metadata": {},
   "outputs": [],
   "source": [
    "details_df_bath_all = details_df_bath.str.split('+', expand=True)\n",
    "details_df_bath_full = details_df_bath_all[0]\n",
    "details_df_bath_half = details_df_bath_all[1]"
   ]
  },
  {
   "cell_type": "code",
   "execution_count": 69,
   "metadata": {},
   "outputs": [],
   "source": [
    "details_df_bed = details_df_bed.replace('N/A', np.nan)\n",
    "details_df_bed = pd.to_numeric(details_df_bed)\n",
    "details_df_area = details_df_area.replace('N/A', np.nan)\n",
    "details_df_area = pd.to_numeric(details_df_area)\n",
    "details_df_bath_full = details_df_bath_full.replace('N/A', np.nan)\n",
    "details_df_bath_full = pd.to_numeric(details_df_bath_full)\n",
    "details_df_bath_half = details_df_bath_half.replace('N/A', np.nan)\n",
    "details_df_bath_half = pd.to_numeric(details_df_bath_half)"
   ]
  },
  {
   "cell_type": "code",
   "execution_count": 70,
   "metadata": {},
   "outputs": [],
   "source": [
    "data = {'bed':details_df_bed, 'full_bath':details_df_bath_full, 'half_bath':details_df_bath_half,\n",
    "       'property_area':details_df_area, 'property_type':details_df_temp[3]}"
   ]
  },
  {
   "cell_type": "code",
   "execution_count": 71,
   "metadata": {},
   "outputs": [
    {
     "data": {
      "text/html": [
       "<div>\n",
       "<style scoped>\n",
       "    .dataframe tbody tr th:only-of-type {\n",
       "        vertical-align: middle;\n",
       "    }\n",
       "\n",
       "    .dataframe tbody tr th {\n",
       "        vertical-align: top;\n",
       "    }\n",
       "\n",
       "    .dataframe thead th {\n",
       "        text-align: right;\n",
       "    }\n",
       "</style>\n",
       "<table border=\"1\" class=\"dataframe\">\n",
       "  <thead>\n",
       "    <tr style=\"text-align: right;\">\n",
       "      <th></th>\n",
       "      <th>bed</th>\n",
       "      <th>full_bath</th>\n",
       "      <th>half_bath</th>\n",
       "      <th>property_area</th>\n",
       "      <th>property_type</th>\n",
       "    </tr>\n",
       "  </thead>\n",
       "  <tbody>\n",
       "    <tr>\n",
       "      <th>0</th>\n",
       "      <td>4.0</td>\n",
       "      <td>1.0</td>\n",
       "      <td>1.0</td>\n",
       "      <td>2300.0</td>\n",
       "      <td>house</td>\n",
       "    </tr>\n",
       "    <tr>\n",
       "      <th>1</th>\n",
       "      <td>4.0</td>\n",
       "      <td>2.0</td>\n",
       "      <td>1.0</td>\n",
       "      <td>1336.0</td>\n",
       "      <td>house</td>\n",
       "    </tr>\n",
       "    <tr>\n",
       "      <th>2</th>\n",
       "      <td>2.0</td>\n",
       "      <td>2.0</td>\n",
       "      <td>NaN</td>\n",
       "      <td>835.0</td>\n",
       "      <td>condo</td>\n",
       "    </tr>\n",
       "    <tr>\n",
       "      <th>3</th>\n",
       "      <td>5.0</td>\n",
       "      <td>3.0</td>\n",
       "      <td>NaN</td>\n",
       "      <td>1136.0</td>\n",
       "      <td>house</td>\n",
       "    </tr>\n",
       "    <tr>\n",
       "      <th>4</th>\n",
       "      <td>3.0</td>\n",
       "      <td>2.0</td>\n",
       "      <td>NaN</td>\n",
       "      <td>1055.0</td>\n",
       "      <td>house</td>\n",
       "    </tr>\n",
       "  </tbody>\n",
       "</table>\n",
       "</div>"
      ],
      "text/plain": [
       "   bed  full_bath  half_bath  property_area property_type\n",
       "0  4.0        1.0        1.0         2300.0         house\n",
       "1  4.0        2.0        1.0         1336.0         house\n",
       "2  2.0        2.0        NaN          835.0         condo\n",
       "3  5.0        3.0        NaN         1136.0         house\n",
       "4  3.0        2.0        NaN         1055.0         house"
      ]
     },
     "execution_count": 71,
     "metadata": {},
     "output_type": "execute_result"
    }
   ],
   "source": [
    "details_df = pd.DataFrame(data)\n",
    "details_df.head()"
   ]
  },
  {
   "cell_type": "code",
   "execution_count": 72,
   "metadata": {},
   "outputs": [
    {
     "data": {
      "text/html": [
       "<div>\n",
       "<style scoped>\n",
       "    .dataframe tbody tr th:only-of-type {\n",
       "        vertical-align: middle;\n",
       "    }\n",
       "\n",
       "    .dataframe tbody tr th {\n",
       "        vertical-align: top;\n",
       "    }\n",
       "\n",
       "    .dataframe thead th {\n",
       "        text-align: right;\n",
       "    }\n",
       "</style>\n",
       "<table border=\"1\" class=\"dataframe\">\n",
       "  <thead>\n",
       "    <tr style=\"text-align: right;\">\n",
       "      <th></th>\n",
       "      <th>price</th>\n",
       "      <th>postal_code</th>\n",
       "      <th>address</th>\n",
       "      <th>bed</th>\n",
       "      <th>full_bath</th>\n",
       "      <th>half_bath</th>\n",
       "      <th>property_area</th>\n",
       "      <th>property_type</th>\n",
       "    </tr>\n",
       "  </thead>\n",
       "  <tbody>\n",
       "    <tr>\n",
       "      <th>0</th>\n",
       "      <td>329900</td>\n",
       "      <td>T1Y2Z3</td>\n",
       "      <td>4312 49 ST NE</td>\n",
       "      <td>4.0</td>\n",
       "      <td>1.0</td>\n",
       "      <td>1.0</td>\n",
       "      <td>2300.0</td>\n",
       "      <td>house</td>\n",
       "    </tr>\n",
       "    <tr>\n",
       "      <th>1</th>\n",
       "      <td>425000</td>\n",
       "      <td>T3L2E7</td>\n",
       "      <td>108 TUSCANY VALLEY DR NW</td>\n",
       "      <td>4.0</td>\n",
       "      <td>2.0</td>\n",
       "      <td>1.0</td>\n",
       "      <td>1336.0</td>\n",
       "      <td>house</td>\n",
       "    </tr>\n",
       "    <tr>\n",
       "      <th>2</th>\n",
       "      <td>234900</td>\n",
       "      <td>T3R0V5</td>\n",
       "      <td>2107 - 450 SAGE VALLEY DR NW</td>\n",
       "      <td>2.0</td>\n",
       "      <td>2.0</td>\n",
       "      <td>NaN</td>\n",
       "      <td>835.0</td>\n",
       "      <td>condo</td>\n",
       "    </tr>\n",
       "    <tr>\n",
       "      <th>3</th>\n",
       "      <td>369000</td>\n",
       "      <td>T1Y3V2</td>\n",
       "      <td>6852 RUNDLEHORN DR NE</td>\n",
       "      <td>5.0</td>\n",
       "      <td>3.0</td>\n",
       "      <td>NaN</td>\n",
       "      <td>1136.0</td>\n",
       "      <td>house</td>\n",
       "    </tr>\n",
       "    <tr>\n",
       "      <th>4</th>\n",
       "      <td>424900</td>\n",
       "      <td>T2X1G2</td>\n",
       "      <td>27 MIDRIDGE CLOSE SE</td>\n",
       "      <td>3.0</td>\n",
       "      <td>2.0</td>\n",
       "      <td>NaN</td>\n",
       "      <td>1055.0</td>\n",
       "      <td>house</td>\n",
       "    </tr>\n",
       "  </tbody>\n",
       "</table>\n",
       "</div>"
      ],
      "text/plain": [
       "    price postal_code                       address  bed  full_bath  \\\n",
       "0  329900      T1Y2Z3                 4312 49 ST NE  4.0        1.0   \n",
       "1  425000      T3L2E7      108 TUSCANY VALLEY DR NW  4.0        2.0   \n",
       "2  234900      T3R0V5  2107 - 450 SAGE VALLEY DR NW  2.0        2.0   \n",
       "3  369000      T1Y3V2         6852 RUNDLEHORN DR NE  5.0        3.0   \n",
       "4  424900      T2X1G2          27 MIDRIDGE CLOSE SE  3.0        2.0   \n",
       "\n",
       "   half_bath  property_area property_type  \n",
       "0        1.0         2300.0         house  \n",
       "1        1.0         1336.0         house  \n",
       "2        NaN          835.0         condo  \n",
       "3        NaN         1136.0         house  \n",
       "4        NaN         1055.0         house  "
      ]
     },
     "execution_count": 72,
     "metadata": {},
     "output_type": "execute_result"
    }
   ],
   "source": [
    "calgary_df_dup = pd.concat([df_add, details_df], axis=1)\n",
    "calgary_df = calgary_df_dup.drop_duplicates()\n",
    "calgary_df.head()"
   ]
  },
  {
   "cell_type": "markdown",
   "metadata": {},
   "source": [
    "## Cleanup Postal Codes, Latitude, Longitude and Year Built"
   ]
  },
  {
   "cell_type": "code",
   "execution_count": 73,
   "metadata": {},
   "outputs": [],
   "source": [
    "postal_codes_messy = pd.DataFrame(postal_code_array, columns=[\"postal_code\"])"
   ]
  },
  {
   "cell_type": "code",
   "execution_count": 74,
   "metadata": {},
   "outputs": [
    {
     "data": {
      "text/html": [
       "<div>\n",
       "<style scoped>\n",
       "    .dataframe tbody tr th:only-of-type {\n",
       "        vertical-align: middle;\n",
       "    }\n",
       "\n",
       "    .dataframe tbody tr th {\n",
       "        vertical-align: top;\n",
       "    }\n",
       "\n",
       "    .dataframe thead th {\n",
       "        text-align: right;\n",
       "    }\n",
       "</style>\n",
       "<table border=\"1\" class=\"dataframe\">\n",
       "  <thead>\n",
       "    <tr style=\"text-align: right;\">\n",
       "      <th></th>\n",
       "      <th>postal_code</th>\n",
       "    </tr>\n",
       "  </thead>\n",
       "  <tbody>\n",
       "    <tr>\n",
       "      <th>0</th>\n",
       "      <td>T1Y2Z3\"</td>\n",
       "    </tr>\n",
       "    <tr>\n",
       "      <th>1</th>\n",
       "      <td>T3L2E7\"</td>\n",
       "    </tr>\n",
       "    <tr>\n",
       "      <th>2</th>\n",
       "      <td>T3R0V5\"</td>\n",
       "    </tr>\n",
       "    <tr>\n",
       "      <th>3</th>\n",
       "      <td>T1Y3V2\"</td>\n",
       "    </tr>\n",
       "    <tr>\n",
       "      <th>4</th>\n",
       "      <td>T2X1G2\"</td>\n",
       "    </tr>\n",
       "  </tbody>\n",
       "</table>\n",
       "</div>"
      ],
      "text/plain": [
       "  postal_code\n",
       "0     T1Y2Z3\"\n",
       "1     T3L2E7\"\n",
       "2     T3R0V5\"\n",
       "3     T1Y3V2\"\n",
       "4     T2X1G2\""
      ]
     },
     "execution_count": 74,
     "metadata": {},
     "output_type": "execute_result"
    }
   ],
   "source": [
    "postal_codes_messy.head()"
   ]
  },
  {
   "cell_type": "code",
   "execution_count": 75,
   "metadata": {},
   "outputs": [],
   "source": [
    "postal_code_array_clean = postal_codes_messy[\"postal_code\"].str.replace('\"', '')\n",
    "postal_code_array_clean = postal_code_array_clean.str.replace(\" \", \"\")"
   ]
  },
  {
   "cell_type": "code",
   "execution_count": 76,
   "metadata": {},
   "outputs": [],
   "source": [
    "latitude_array_messy = pd.DataFrame(latitude_array, columns=[\"latitude\"])"
   ]
  },
  {
   "cell_type": "code",
   "execution_count": 77,
   "metadata": {},
   "outputs": [
    {
     "data": {
      "text/plain": [
       "0    51.090065\n",
       "1    51.128175\n",
       "2    51.179434\n",
       "3     51.07927\n",
       "4     50.92003\n",
       "Name: latitude, dtype: object"
      ]
     },
     "execution_count": 77,
     "metadata": {},
     "output_type": "execute_result"
    }
   ],
   "source": [
    "latitude_array_messy = latitude_array_messy[\"latitude\"].str.replace(',', '')\n",
    "latitude_array_messy.head()"
   ]
  },
  {
   "cell_type": "code",
   "execution_count": 78,
   "metadata": {},
   "outputs": [],
   "source": [
    "longitude_array_messy = pd.DataFrame(longitude_array, columns=[\"longitude\"])"
   ]
  },
  {
   "cell_type": "code",
   "execution_count": 79,
   "metadata": {},
   "outputs": [
    {
     "data": {
      "text/plain": [
       "0     -113.962366\n",
       "1     -114.247503\n",
       "2     -114.158282\n",
       "3     -113.940553\n",
       "4    -114.05498\\n\n",
       "Name: longitude, dtype: object"
      ]
     },
     "execution_count": 79,
     "metadata": {},
     "output_type": "execute_result"
    }
   ],
   "source": [
    "longitude_array_messy = longitude_array_messy[\"longitude\"].str.replace(',', '')\n",
    "longitude_array_messy.head()"
   ]
  },
  {
   "cell_type": "markdown",
   "metadata": {},
   "source": [
    "<div class=\"alert alert-danger\">\n",
    "    <b>Unused</b>\n",
    "    \n",
    "year_built_messy = pd.DataFrame(year_built_array, columns=[\"year_built\"])<br>\n",
    "year_built_clean = year_built_messy[\"year_built\"].str.replace('', np.nan)<br>\n",
    "year_built_num = year_built_messy.astype(int)\n",
    "\n",
    "year_built_num.head()\n",
    "</div>"
   ]
  },
  {
   "cell_type": "code",
   "execution_count": 80,
   "metadata": {},
   "outputs": [
    {
     "data": {
      "text/html": [
       "<div>\n",
       "<style scoped>\n",
       "    .dataframe tbody tr th:only-of-type {\n",
       "        vertical-align: middle;\n",
       "    }\n",
       "\n",
       "    .dataframe tbody tr th {\n",
       "        vertical-align: top;\n",
       "    }\n",
       "\n",
       "    .dataframe thead th {\n",
       "        text-align: right;\n",
       "    }\n",
       "</style>\n",
       "<table border=\"1\" class=\"dataframe\">\n",
       "  <thead>\n",
       "    <tr style=\"text-align: right;\">\n",
       "      <th></th>\n",
       "      <th>year_built</th>\n",
       "    </tr>\n",
       "  </thead>\n",
       "  <tbody>\n",
       "    <tr>\n",
       "      <th>0</th>\n",
       "      <td>1977</td>\n",
       "    </tr>\n",
       "    <tr>\n",
       "      <th>1</th>\n",
       "      <td>1998</td>\n",
       "    </tr>\n",
       "    <tr>\n",
       "      <th>2</th>\n",
       "      <td>2015</td>\n",
       "    </tr>\n",
       "    <tr>\n",
       "      <th>3</th>\n",
       "      <td>1978</td>\n",
       "    </tr>\n",
       "    <tr>\n",
       "      <th>4</th>\n",
       "      <td>1978</td>\n",
       "    </tr>\n",
       "  </tbody>\n",
       "</table>\n",
       "</div>"
      ],
      "text/plain": [
       "  year_built\n",
       "0       1977\n",
       "1       1998\n",
       "2       2015\n",
       "3       1978\n",
       "4       1978"
      ]
     },
     "execution_count": 80,
     "metadata": {},
     "output_type": "execute_result"
    }
   ],
   "source": [
    "year_built_messy = pd.DataFrame(year_built_array, columns=[\"year_built\"])\n",
    "#year_built_messy = pd.to_numeric(year_built_messy)\n",
    "year_built_messy.head()"
   ]
  },
  {
   "cell_type": "code",
   "execution_count": 81,
   "metadata": {},
   "outputs": [],
   "source": [
    "year_built_clean = year_built_messy[\"year_built\"].replace('', np.nan)"
   ]
  },
  {
   "cell_type": "code",
   "execution_count": 82,
   "metadata": {},
   "outputs": [
    {
     "data": {
      "text/plain": [
       "0    1977\n",
       "1    1998\n",
       "2    2015\n",
       "3    1978\n",
       "4    1978\n",
       "5    1976\n",
       "6    2004\n",
       "7    nasq\n",
       "8    1960\n",
       "9    2005\n",
       "Name: year_built, dtype: object"
      ]
     },
     "execution_count": 82,
     "metadata": {},
     "output_type": "execute_result"
    }
   ],
   "source": [
    "year_built_clean.head(10)"
   ]
  },
  {
   "cell_type": "code",
   "execution_count": 83,
   "metadata": {},
   "outputs": [],
   "source": [
    "year_built_digits = []\n",
    "\n",
    "for i in year_built_clean:\n",
    "    if ((str(i) >= 'A' and str(i) <= 'Z') or (str(i) >= 'a' and str(i) <= 'z')):\n",
    "        #year_built_clean.replace(i, np.nan)\n",
    "        year_built_digits.append(np.nan)\n",
    "    else:\n",
    "        year_built_digits.append(i)"
   ]
  },
  {
   "cell_type": "code",
   "execution_count": 84,
   "metadata": {},
   "outputs": [
    {
     "data": {
      "text/plain": [
       "['1977', '1998', '2015', '1978', '1978', '1976', '2004', nan, '1960', '2005']"
      ]
     },
     "execution_count": 84,
     "metadata": {},
     "output_type": "execute_result"
    }
   ],
   "source": [
    "year_built_digits[:10]"
   ]
  },
  {
   "cell_type": "code",
   "execution_count": 85,
   "metadata": {},
   "outputs": [
    {
     "data": {
      "text/plain": [
       "array([1977., 1998., 2015., 1978., 1978., 1976., 2004.,   nan, 1960.,\n",
       "       2005.])"
      ]
     },
     "execution_count": 85,
     "metadata": {},
     "output_type": "execute_result"
    }
   ],
   "source": [
    "year_built_num = pd.to_numeric(year_built_digits)\n",
    "year_built_num[:10]"
   ]
  },
  {
   "cell_type": "code",
   "execution_count": 103,
   "metadata": {},
   "outputs": [],
   "source": [
    "year_built_num_pd = pd.DataFrame(year_built_num)"
   ]
  },
  {
   "cell_type": "code",
   "execution_count": 86,
   "metadata": {},
   "outputs": [
    {
     "data": {
      "text/plain": [
       "array([43., 22.,  5., 42., 42., 44., 16., nan, 60., 15.])"
      ]
     },
     "execution_count": 86,
     "metadata": {},
     "output_type": "execute_result"
    }
   ],
   "source": [
    "years_old = 2020 - year_built_num\n",
    "years_old[:10]"
   ]
  },
  {
   "cell_type": "code",
   "execution_count": 104,
   "metadata": {},
   "outputs": [],
   "source": [
    "years_old_df = pd.DataFrame(years_old)"
   ]
  },
  {
   "cell_type": "code",
   "execution_count": 87,
   "metadata": {},
   "outputs": [],
   "source": [
    "latitude_digits = []\n",
    "\n",
    "for i in latitude_array_messy:\n",
    "    if ((str(i) >= 'A' and str(i) <= 'Z') or (str(i) >= 'a' and str(i) <= 'z')):\n",
    "        latitude_digits.append(np.nan)\n",
    "    else:\n",
    "        latitude_digits.append(i)"
   ]
  },
  {
   "cell_type": "code",
   "execution_count": 89,
   "metadata": {},
   "outputs": [],
   "source": [
    "longitude_digits = []\n",
    "\n",
    "for i in longitude_array_messy:\n",
    "    if ((str(i) >= 'A' and str(i) <= 'Z') or (str(i) >= 'a' and str(i) <= 'z')):\n",
    "        longitude_digits.append(np.nan)\n",
    "    else:\n",
    "        longitude_digits.append(i)"
   ]
  },
  {
   "cell_type": "code",
   "execution_count": 90,
   "metadata": {},
   "outputs": [],
   "source": [
    "latitude_digits = pd.to_numeric(latitude_digits)\n",
    "longitude_digits = pd.to_numeric(longitude_digits)"
   ]
  },
  {
   "cell_type": "code",
   "execution_count": 123,
   "metadata": {},
   "outputs": [
    {
     "data": {
      "text/html": [
       "<div>\n",
       "<style scoped>\n",
       "    .dataframe tbody tr th:only-of-type {\n",
       "        vertical-align: middle;\n",
       "    }\n",
       "\n",
       "    .dataframe tbody tr th {\n",
       "        vertical-align: top;\n",
       "    }\n",
       "\n",
       "    .dataframe thead th {\n",
       "        text-align: right;\n",
       "    }\n",
       "</style>\n",
       "<table border=\"1\" class=\"dataframe\">\n",
       "  <thead>\n",
       "    <tr style=\"text-align: right;\">\n",
       "      <th></th>\n",
       "      <th>monthly_payments</th>\n",
       "    </tr>\n",
       "  </thead>\n",
       "  <tbody>\n",
       "    <tr>\n",
       "      <th>0</th>\n",
       "      <td>$1426.53</td>\n",
       "    </tr>\n",
       "    <tr>\n",
       "      <th>1</th>\n",
       "      <td>$1837.75</td>\n",
       "    </tr>\n",
       "    <tr>\n",
       "      <th>2</th>\n",
       "      <td>$1015.74</td>\n",
       "    </tr>\n",
       "    <tr>\n",
       "      <th>3</th>\n",
       "      <td>$1595.60</td>\n",
       "    </tr>\n",
       "    <tr>\n",
       "      <th>4</th>\n",
       "      <td>$1837.32</td>\n",
       "    </tr>\n",
       "  </tbody>\n",
       "</table>\n",
       "</div>"
      ],
      "text/plain": [
       "  monthly_payments\n",
       "0         $1426.53\n",
       "1         $1837.75\n",
       "2         $1015.74\n",
       "3         $1595.60\n",
       "4         $1837.32"
      ]
     },
     "execution_count": 123,
     "metadata": {},
     "output_type": "execute_result"
    }
   ],
   "source": [
    "payment_monthly_messy = pd.DataFrame(payment_monthly, columns=[\"monthly_payments\"])\n",
    "payment_monthly_messy.head()"
   ]
  },
  {
   "cell_type": "code",
   "execution_count": 124,
   "metadata": {
    "scrolled": true
   },
   "outputs": [
    {
     "data": {
      "text/plain": [
       "0    1426.53\n",
       "1    1837.75\n",
       "2    1015.74\n",
       "3    1595.60\n",
       "4    1837.32\n",
       "5     908.07\n",
       "6    1815.70\n",
       "7    4752.21\n",
       "8    3134.56\n",
       "9    4734.92\n",
       "Name: monthly_payments, dtype: object"
      ]
     },
     "execution_count": 124,
     "metadata": {},
     "output_type": "execute_result"
    }
   ],
   "source": [
    "payment_monthly_messy = payment_monthly_messy[\"monthly_payments\"].str.replace('$', '')\n",
    "payment_monthly_messy.head(10)"
   ]
  },
  {
   "cell_type": "code",
   "execution_count": 125,
   "metadata": {},
   "outputs": [],
   "source": [
    "payment_monthly_messy = payment_monthly_messy.replace('', np.nan)"
   ]
  },
  {
   "cell_type": "code",
   "execution_count": 93,
   "metadata": {},
   "outputs": [],
   "source": [
    "payment_monthly_clean = payment_monthly_messy.replace('None', np.nan)\n",
    "payment_monthly_clean = pd.to_numeric(payment_monthly_clean)"
   ]
  },
  {
   "cell_type": "markdown",
   "metadata": {},
   "source": [
    "<div class=\"alert alert-success\">\n",
    "    <b>Guide</b>\n",
    "    \n",
    "https://stackoverflow.com/questions/19412462/getting-distance-between-two-points-based-on-latitude-longitude\n",
    "\n",
    "#### approximate radius of earth in km\n",
    "R = 6373.0\n",
    "    \n",
    "lat1 = radians(52.2296756)<br>\n",
    "lon1 = radians(21.0122287)\n",
    "\n",
    "lat2 = radians(52.406374)<br>\n",
    "lon2 = radians(16.9251681)\n",
    "\n",
    "dlon = lon2 - lon1<br>\n",
    "dlat = lat2 - lat1\n",
    "\n",
    "a = sin(dlat / 2)**2 + cos(lat1) * cos(lat2) * sin(dlon / 2)**2<br>\n",
    "c = 2 * atan2(sqrt(a), sqrt(1 - a))\n",
    "\n",
    "distance = R * c\n",
    "\n",
    "print(\"Result:\", distance)\n",
    "    \n",
    "#### Calgary Downtown coordinates (51.0449485,-114.0739559)\n",
    "</div>"
   ]
  },
  {
   "cell_type": "code",
   "execution_count": 136,
   "metadata": {},
   "outputs": [],
   "source": [
    "distance_downtown = []\n",
    "\n",
    "for i, j in zip(latitude_digits, longitude_digits):\n",
    "    lat1 = radians(i)\n",
    "    lon1 = radians(j)\n",
    "    lat2 = radians(51.0449485)\n",
    "    lon2 = radians(-114.0739559)\n",
    "    \n",
    "    dlon = lon2 - lon1\n",
    "    dlat = lat2 - lat1\n",
    "\n",
    "    a = sin(dlat / 2)**2 + cos(lat1) * cos(lat2) * sin(dlon / 2)**2\n",
    "    c = 2 * atan2(sqrt(a), sqrt(1 - a))\n",
    "    R = 6373.0\n",
    "    distance = (R * c)\n",
    "    \n",
    "    distance_downtown.append(distance)"
   ]
  },
  {
   "cell_type": "code",
   "execution_count": 137,
   "metadata": {},
   "outputs": [
    {
     "data": {
      "text/plain": [
       "[9.274735316261275,\n",
       " 15.25529747822107,\n",
       " 16.076060973492734,\n",
       " 10.07672965554843,\n",
       " 13.958058198897872]"
      ]
     },
     "execution_count": 137,
     "metadata": {},
     "output_type": "execute_result"
    }
   ],
   "source": [
    "distance_downtown[:5]"
   ]
  },
  {
   "cell_type": "code",
   "execution_count": 138,
   "metadata": {},
   "outputs": [],
   "source": [
    "distance_downtown_df = pd.DataFrame(distance_downtown)"
   ]
  },
  {
   "cell_type": "markdown",
   "metadata": {},
   "source": [
    "<div class=\"alert alert-warning\">\n",
    "    <b>Another example</b>\n",
    "    \n",
    "import geopy.distance\n",
    "\n",
    "coords_1 = (52.2296756, 21.0122287)<br>\n",
    "coords_2 = (52.406374, 16.9251681)\n",
    "\n",
    "print(geopy.distance.vincenty(coords_1, coords_2).km)\n",
    "</div>"
   ]
  },
  {
   "cell_type": "code",
   "execution_count": 139,
   "metadata": {},
   "outputs": [
    {
     "data": {
      "text/html": [
       "<div>\n",
       "<style scoped>\n",
       "    .dataframe tbody tr th:only-of-type {\n",
       "        vertical-align: middle;\n",
       "    }\n",
       "\n",
       "    .dataframe tbody tr th {\n",
       "        vertical-align: top;\n",
       "    }\n",
       "\n",
       "    .dataframe thead th {\n",
       "        text-align: right;\n",
       "    }\n",
       "</style>\n",
       "<table border=\"1\" class=\"dataframe\">\n",
       "  <thead>\n",
       "    <tr style=\"text-align: right;\">\n",
       "      <th></th>\n",
       "      <th>0</th>\n",
       "      <th>1</th>\n",
       "      <th>2</th>\n",
       "    </tr>\n",
       "  </thead>\n",
       "  <tbody>\n",
       "    <tr>\n",
       "      <th>0</th>\n",
       "      <td>51.090065</td>\n",
       "      <td>-113.962366</td>\n",
       "      <td>1977.0</td>\n",
       "    </tr>\n",
       "    <tr>\n",
       "      <th>1</th>\n",
       "      <td>51.128175</td>\n",
       "      <td>-114.247503</td>\n",
       "      <td>1998.0</td>\n",
       "    </tr>\n",
       "    <tr>\n",
       "      <th>2</th>\n",
       "      <td>51.179434</td>\n",
       "      <td>-114.158282</td>\n",
       "      <td>2015.0</td>\n",
       "    </tr>\n",
       "    <tr>\n",
       "      <th>3</th>\n",
       "      <td>51.079270</td>\n",
       "      <td>-113.940553</td>\n",
       "      <td>1978.0</td>\n",
       "    </tr>\n",
       "    <tr>\n",
       "      <th>4</th>\n",
       "      <td>50.920030</td>\n",
       "      <td>-114.054980</td>\n",
       "      <td>1978.0</td>\n",
       "    </tr>\n",
       "  </tbody>\n",
       "</table>\n",
       "</div>"
      ],
      "text/plain": [
       "           0           1       2\n",
       "0  51.090065 -113.962366  1977.0\n",
       "1  51.128175 -114.247503  1998.0\n",
       "2  51.179434 -114.158282  2015.0\n",
       "3  51.079270 -113.940553  1978.0\n",
       "4  50.920030 -114.054980  1978.0"
      ]
     },
     "execution_count": 139,
     "metadata": {},
     "output_type": "execute_result"
    }
   ],
   "source": [
    "more_details = pd.DataFrame([latitude_digits, longitude_digits, year_built_num]).T\n",
    "#more_details.columns = [\"postal_code\", \"latitude\", \"longitude\", \"year_built\"]\n",
    "more_details.head()"
   ]
  },
  {
   "cell_type": "code",
   "execution_count": 140,
   "metadata": {
    "scrolled": true
   },
   "outputs": [
    {
     "data": {
      "text/html": [
       "<div>\n",
       "<style scoped>\n",
       "    .dataframe tbody tr th:only-of-type {\n",
       "        vertical-align: middle;\n",
       "    }\n",
       "\n",
       "    .dataframe tbody tr th {\n",
       "        vertical-align: top;\n",
       "    }\n",
       "\n",
       "    .dataframe thead th {\n",
       "        text-align: right;\n",
       "    }\n",
       "</style>\n",
       "<table border=\"1\" class=\"dataframe\">\n",
       "  <thead>\n",
       "    <tr style=\"text-align: right;\">\n",
       "      <th></th>\n",
       "      <th>postal_code</th>\n",
       "      <th>latitude</th>\n",
       "      <th>longitude</th>\n",
       "      <th>year_built</th>\n",
       "      <th>years_old</th>\n",
       "      <th>distance_downtown</th>\n",
       "      <th>monthly_payments</th>\n",
       "    </tr>\n",
       "  </thead>\n",
       "  <tbody>\n",
       "    <tr>\n",
       "      <th>0</th>\n",
       "      <td>T1Y2Z3</td>\n",
       "      <td>51.090065</td>\n",
       "      <td>-113.962366</td>\n",
       "      <td>1977.0</td>\n",
       "      <td>43.0</td>\n",
       "      <td>9.274735</td>\n",
       "      <td>1426.53</td>\n",
       "    </tr>\n",
       "    <tr>\n",
       "      <th>1</th>\n",
       "      <td>T3L2E7</td>\n",
       "      <td>51.128175</td>\n",
       "      <td>-114.247503</td>\n",
       "      <td>1998.0</td>\n",
       "      <td>22.0</td>\n",
       "      <td>15.255297</td>\n",
       "      <td>1837.75</td>\n",
       "    </tr>\n",
       "    <tr>\n",
       "      <th>2</th>\n",
       "      <td>T3R0V5</td>\n",
       "      <td>51.179434</td>\n",
       "      <td>-114.158282</td>\n",
       "      <td>2015.0</td>\n",
       "      <td>5.0</td>\n",
       "      <td>16.076061</td>\n",
       "      <td>1015.74</td>\n",
       "    </tr>\n",
       "    <tr>\n",
       "      <th>3</th>\n",
       "      <td>T1Y3V2</td>\n",
       "      <td>51.079270</td>\n",
       "      <td>-113.940553</td>\n",
       "      <td>1978.0</td>\n",
       "      <td>42.0</td>\n",
       "      <td>10.076730</td>\n",
       "      <td>1595.60</td>\n",
       "    </tr>\n",
       "    <tr>\n",
       "      <th>4</th>\n",
       "      <td>T2X1G2</td>\n",
       "      <td>50.920030</td>\n",
       "      <td>-114.054980</td>\n",
       "      <td>1978.0</td>\n",
       "      <td>42.0</td>\n",
       "      <td>13.958058</td>\n",
       "      <td>1837.32</td>\n",
       "    </tr>\n",
       "  </tbody>\n",
       "</table>\n",
       "</div>"
      ],
      "text/plain": [
       "  postal_code   latitude   longitude  year_built  years_old  \\\n",
       "0      T1Y2Z3  51.090065 -113.962366      1977.0       43.0   \n",
       "1      T3L2E7  51.128175 -114.247503      1998.0       22.0   \n",
       "2      T3R0V5  51.179434 -114.158282      2015.0        5.0   \n",
       "3      T1Y3V2  51.079270 -113.940553      1978.0       42.0   \n",
       "4      T2X1G2  50.920030 -114.054980      1978.0       42.0   \n",
       "\n",
       "   distance_downtown  monthly_payments  \n",
       "0           9.274735           1426.53  \n",
       "1          15.255297           1837.75  \n",
       "2          16.076061           1015.74  \n",
       "3          10.076730           1595.60  \n",
       "4          13.958058           1837.32  "
      ]
     },
     "execution_count": 140,
     "metadata": {},
     "output_type": "execute_result"
    }
   ],
   "source": [
    "more_df = pd.concat([postal_code_array_clean, more_details, years_old_df, distance_downtown_df, payment_monthly_clean], axis=1)\n",
    "more_df.columns = [\"postal_code\", \"latitude\", \"longitude\", \"year_built\", \"years_old\", \"distance_downtown\", \"monthly_payments\"]\n",
    "more_df.head()"
   ]
  },
  {
   "cell_type": "code",
   "execution_count": 141,
   "metadata": {},
   "outputs": [
    {
     "data": {
      "text/html": [
       "<div>\n",
       "<style scoped>\n",
       "    .dataframe tbody tr th:only-of-type {\n",
       "        vertical-align: middle;\n",
       "    }\n",
       "\n",
       "    .dataframe tbody tr th {\n",
       "        vertical-align: top;\n",
       "    }\n",
       "\n",
       "    .dataframe thead th {\n",
       "        text-align: right;\n",
       "    }\n",
       "</style>\n",
       "<table border=\"1\" class=\"dataframe\">\n",
       "  <thead>\n",
       "    <tr style=\"text-align: right;\">\n",
       "      <th></th>\n",
       "      <th>price</th>\n",
       "      <th>postal_code</th>\n",
       "      <th>address</th>\n",
       "      <th>bed</th>\n",
       "      <th>full_bath</th>\n",
       "      <th>half_bath</th>\n",
       "      <th>property_area</th>\n",
       "      <th>property_type</th>\n",
       "      <th>latitude</th>\n",
       "      <th>longitude</th>\n",
       "      <th>year_built</th>\n",
       "      <th>years_old</th>\n",
       "      <th>distance_downtown</th>\n",
       "      <th>monthly_payments</th>\n",
       "    </tr>\n",
       "  </thead>\n",
       "  <tbody>\n",
       "    <tr>\n",
       "      <th>0</th>\n",
       "      <td>329900</td>\n",
       "      <td>T1Y2Z3</td>\n",
       "      <td>4312 49 ST NE</td>\n",
       "      <td>4.0</td>\n",
       "      <td>1.0</td>\n",
       "      <td>1.0</td>\n",
       "      <td>2300.0</td>\n",
       "      <td>house</td>\n",
       "      <td>51.090065</td>\n",
       "      <td>-113.962366</td>\n",
       "      <td>1977.0</td>\n",
       "      <td>43.0</td>\n",
       "      <td>9.274735</td>\n",
       "      <td>1426.53</td>\n",
       "    </tr>\n",
       "    <tr>\n",
       "      <th>1</th>\n",
       "      <td>425000</td>\n",
       "      <td>T3L2E7</td>\n",
       "      <td>108 TUSCANY VALLEY DR NW</td>\n",
       "      <td>4.0</td>\n",
       "      <td>2.0</td>\n",
       "      <td>1.0</td>\n",
       "      <td>1336.0</td>\n",
       "      <td>house</td>\n",
       "      <td>51.128175</td>\n",
       "      <td>-114.247503</td>\n",
       "      <td>1998.0</td>\n",
       "      <td>22.0</td>\n",
       "      <td>15.255297</td>\n",
       "      <td>1837.75</td>\n",
       "    </tr>\n",
       "    <tr>\n",
       "      <th>2</th>\n",
       "      <td>234900</td>\n",
       "      <td>T3R0V5</td>\n",
       "      <td>2107 - 450 SAGE VALLEY DR NW</td>\n",
       "      <td>2.0</td>\n",
       "      <td>2.0</td>\n",
       "      <td>NaN</td>\n",
       "      <td>835.0</td>\n",
       "      <td>condo</td>\n",
       "      <td>51.179434</td>\n",
       "      <td>-114.158282</td>\n",
       "      <td>2015.0</td>\n",
       "      <td>5.0</td>\n",
       "      <td>16.076061</td>\n",
       "      <td>1015.74</td>\n",
       "    </tr>\n",
       "    <tr>\n",
       "      <th>3</th>\n",
       "      <td>369000</td>\n",
       "      <td>T1Y3V2</td>\n",
       "      <td>6852 RUNDLEHORN DR NE</td>\n",
       "      <td>5.0</td>\n",
       "      <td>3.0</td>\n",
       "      <td>NaN</td>\n",
       "      <td>1136.0</td>\n",
       "      <td>house</td>\n",
       "      <td>51.079270</td>\n",
       "      <td>-113.940553</td>\n",
       "      <td>1978.0</td>\n",
       "      <td>42.0</td>\n",
       "      <td>10.076730</td>\n",
       "      <td>1595.60</td>\n",
       "    </tr>\n",
       "    <tr>\n",
       "      <th>4</th>\n",
       "      <td>424900</td>\n",
       "      <td>T2X1G2</td>\n",
       "      <td>27 MIDRIDGE CLOSE SE</td>\n",
       "      <td>3.0</td>\n",
       "      <td>2.0</td>\n",
       "      <td>NaN</td>\n",
       "      <td>1055.0</td>\n",
       "      <td>house</td>\n",
       "      <td>50.920030</td>\n",
       "      <td>-114.054980</td>\n",
       "      <td>1978.0</td>\n",
       "      <td>42.0</td>\n",
       "      <td>13.958058</td>\n",
       "      <td>1837.32</td>\n",
       "    </tr>\n",
       "  </tbody>\n",
       "</table>\n",
       "</div>"
      ],
      "text/plain": [
       "    price postal_code                       address  bed  full_bath  \\\n",
       "0  329900      T1Y2Z3                 4312 49 ST NE  4.0        1.0   \n",
       "1  425000      T3L2E7      108 TUSCANY VALLEY DR NW  4.0        2.0   \n",
       "2  234900      T3R0V5  2107 - 450 SAGE VALLEY DR NW  2.0        2.0   \n",
       "3  369000      T1Y3V2         6852 RUNDLEHORN DR NE  5.0        3.0   \n",
       "4  424900      T2X1G2          27 MIDRIDGE CLOSE SE  3.0        2.0   \n",
       "\n",
       "   half_bath  property_area property_type   latitude   longitude  year_built  \\\n",
       "0        1.0         2300.0         house  51.090065 -113.962366      1977.0   \n",
       "1        1.0         1336.0         house  51.128175 -114.247503      1998.0   \n",
       "2        NaN          835.0         condo  51.179434 -114.158282      2015.0   \n",
       "3        NaN         1136.0         house  51.079270 -113.940553      1978.0   \n",
       "4        NaN         1055.0         house  50.920030 -114.054980      1978.0   \n",
       "\n",
       "   years_old  distance_downtown  monthly_payments  \n",
       "0       43.0           9.274735           1426.53  \n",
       "1       22.0          15.255297           1837.75  \n",
       "2        5.0          16.076061           1015.74  \n",
       "3       42.0          10.076730           1595.60  \n",
       "4       42.0          13.958058           1837.32  "
      ]
     },
     "execution_count": 141,
     "metadata": {},
     "output_type": "execute_result"
    }
   ],
   "source": [
    "result_dup = pd.merge(calgary_df, more_df, on='postal_code')\n",
    "result = result_dup.drop_duplicates()\n",
    "result = result.reset_index(drop=True)\n",
    "result.head()"
   ]
  },
  {
   "cell_type": "code",
   "execution_count": 142,
   "metadata": {},
   "outputs": [],
   "source": [
    "result.to_csv('data/calgary_listings.csv', index=False)"
   ]
  },
  {
   "cell_type": "markdown",
   "metadata": {},
   "source": [
    "-----------"
   ]
  },
  {
   "cell_type": "markdown",
   "metadata": {},
   "source": [
    "<div class=\"alert alert-info\">\n",
    "    <b>UNSED</b>\n",
    "</div>"
   ]
  },
  {
   "cell_type": "code",
   "execution_count": null,
   "metadata": {},
   "outputs": [],
   "source": [
    "house_details_more=[]\n",
    "url_house = []\n",
    "try:\n",
    "    for detail in soup.find_all('a'):\n",
    "        house_details_more.append(detail.get('href'))\n",
    "except:\n",
    "    house_details_more.append('None')\n",
    "    \n",
    "for i in house_details_more:\n",
    "    if '/ab/calgary-real-estate/' in str(i):\n",
    "        link = 'https://www.remax.ca' + str(i)\n",
    "        url_house.append(link)\n",
    "url_house"
   ]
  },
  {
   "cell_type": "code",
   "execution_count": null,
   "metadata": {},
   "outputs": [],
   "source": [
    "url_house[:5]"
   ]
  },
  {
   "cell_type": "code",
   "execution_count": null,
   "metadata": {},
   "outputs": [],
   "source": [
    "PostalCode = []\n",
    "Latitude = []\n",
    "Longitude = []\n",
    "YearBuilt = []\n",
    "\n",
    "for i in url_house[:5]:\n",
    "    \n",
    "    time.sleep(5)\n",
    "    \n",
    "    page = requests.get(i)\n",
    "    soup = BeautifulSoup(page.text, \"html.parser\")\n",
    "    \n",
    "    lat_all = soup.find_all('script')[4]\n",
    "    \n",
    "    string = ', '.join(lat_all)\n",
    "    pc = \"postalCode\"\n",
    "    position_pc = string.find(pc)\n",
    "    pcd = string[(position_pc+14):(position_pc+21)]\n",
    "    PostalCode.append(pcd)\n",
    "\n",
    "    lat = \"latitude\"\n",
    "    position_lat = string.find(lat)\n",
    "    latd = string[(position_lat+11):(position_lat+20)]\n",
    "    Latitude.append(latd)\n",
    "\n",
    "    long = \"longitude\"\n",
    "    position_long = string.find(long)\n",
    "    longd = string[(position_long+12):(position_long+23)]\n",
    "    Longitude.append(longd)\n",
    "    \n",
    "    house_address = []\n",
    "    \n",
    "    time.sleep(5)\n",
    "    \n",
    "    try:\n",
    "        addresses = soup.find_all('section', class_='property-details')\n",
    "        for address in addresses:\n",
    "            house_address.append(address.text)\n",
    "    except:\n",
    "        house_address.append('None')\n",
    "    \n",
    "    time.sleep(5)\n",
    "    \n",
    "    string = ', '.join(house_address)\n",
    "    s_year = \"Year Built\"\n",
    "    position_year = string.find(s_year)\n",
    "    year_built = string[(position_year+12):(position_year+16)]\n",
    "    YearBuilt.append(year_built)"
   ]
  },
  {
   "cell_type": "code",
   "execution_count": null,
   "metadata": {},
   "outputs": [],
   "source": []
  }
 ],
 "metadata": {
  "kernelspec": {
   "display_name": "Python 3",
   "language": "python",
   "name": "python3"
  },
  "language_info": {
   "codemirror_mode": {
    "name": "ipython",
    "version": 3
   },
   "file_extension": ".py",
   "mimetype": "text/x-python",
   "name": "python",
   "nbconvert_exporter": "python",
   "pygments_lexer": "ipython3",
   "version": "3.7.3"
  }
 },
 "nbformat": 4,
 "nbformat_minor": 2
}
