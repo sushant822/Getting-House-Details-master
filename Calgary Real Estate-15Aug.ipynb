{
 "cells": [
  {
   "cell_type": "markdown",
   "metadata": {},
   "source": [
    "### Remax"
   ]
  },
  {
   "cell_type": "code",
   "execution_count": 1,
   "metadata": {},
   "outputs": [
    {
     "name": "stdout",
     "output_type": "stream",
     "text": [
      "Libraries imported!\n"
     ]
    }
   ],
   "source": [
    "import pandas as pd\n",
    "import numpy as np\n",
    "import requests\n",
    "from bs4 import BeautifulSoup\n",
    "import time\n",
    "from splinter import Browser\n",
    "import warnings\n",
    "warnings.filterwarnings('ignore')\n",
    "print('Libraries imported!')"
   ]
  },
  {
   "cell_type": "code",
   "execution_count": 2,
   "metadata": {},
   "outputs": [],
   "source": [
    "house_address = []\n",
    "house_details = []\n",
    "\n",
    "base_url = 'https://www.remax.ca/ab/calgary-real-estate?page='\n",
    "urls = [base_url + str(x) for x in range(1,2)]\n",
    "\n",
    "for url in urls:\n",
    "    \n",
    "    #browser.visit(url)\n",
    "    time.sleep(5)\n",
    "\n",
    "    # Parse HTML with Beautiful Soup\n",
    "    response = requests.get(url)\n",
    "    soup = BeautifulSoup(response.text, 'html.parser')\n",
    "\n",
    "    try:\n",
    "        addresses = soup.find_all('div', class_='left-content flex-one')\n",
    "        for address in addresses:\n",
    "            house_address.append(address.text)\n",
    "    except:\n",
    "        house_address.append('None')\n",
    "        \n",
    "    try:\n",
    "        details = soup.find_all('div', class_='property-details')\n",
    "        for detail in details:\n",
    "            house_details.append(detail.text)\n",
    "    except:\n",
    "        house_details.append('None')"
   ]
  },
  {
   "cell_type": "code",
   "execution_count": 5,
   "metadata": {},
   "outputs": [
    {
     "data": {
      "text/plain": [
       "[' $329,900 4312 49 ST NE, Calgary, AB, T1Y 2Z3',\n",
       " ' $464,900 3916 VANCOUVER CRES NW, Calgary, AB, T3A 0M1',\n",
       " ' $119,800 102 - 99 ARBOUR LAKE RD NW, Calgary, AB, T3G 4E4',\n",
       " ' $614,900 63 CRANARCH CIR SE, Calgary, AB, T3M 0S3',\n",
       " ' $329,900 32 COPPERPOND Close SE, Calgary, AB, T2Z 0Y9']"
      ]
     },
     "execution_count": 5,
     "metadata": {},
     "output_type": "execute_result"
    }
   ],
   "source": [
    "house_address[:5]"
   ]
  },
  {
   "cell_type": "code",
   "execution_count": 6,
   "metadata": {},
   "outputs": [
    {
     "data": {
      "text/plain": [
       "['4 bed|1 + 1 bath|122 sqft|house',\n",
       " '4 bed|2 bath|1043 sqft|house',\n",
       " '3 bed|1 + 1 bath|1316 sqft',\n",
       " '4 bed|3 + 1 bath|2210 sqft|house',\n",
       " '3 bed|2 + 1 bath|1323 sqft|townhouse']"
      ]
     },
     "execution_count": 6,
     "metadata": {},
     "output_type": "execute_result"
    }
   ],
   "source": [
    "house_details[:5]"
   ]
  },
  {
   "cell_type": "code",
   "execution_count": 3,
   "metadata": {},
   "outputs": [
    {
     "data": {
      "text/html": [
       "<div>\n",
       "<style scoped>\n",
       "    .dataframe tbody tr th:only-of-type {\n",
       "        vertical-align: middle;\n",
       "    }\n",
       "\n",
       "    .dataframe tbody tr th {\n",
       "        vertical-align: top;\n",
       "    }\n",
       "\n",
       "    .dataframe thead th {\n",
       "        text-align: right;\n",
       "    }\n",
       "</style>\n",
       "<table border=\"1\" class=\"dataframe\">\n",
       "  <thead>\n",
       "    <tr style=\"text-align: right;\">\n",
       "      <th></th>\n",
       "      <th>2</th>\n",
       "      <th>price</th>\n",
       "    </tr>\n",
       "  </thead>\n",
       "  <tbody>\n",
       "    <tr>\n",
       "      <th>0</th>\n",
       "      <td>4312 49 ST NE, Calgary, AB, T1Y 2Z3</td>\n",
       "      <td>329900</td>\n",
       "    </tr>\n",
       "    <tr>\n",
       "      <th>1</th>\n",
       "      <td>3916 VANCOUVER CRES NW, Calgary, AB, T3A 0M1</td>\n",
       "      <td>464900</td>\n",
       "    </tr>\n",
       "    <tr>\n",
       "      <th>2</th>\n",
       "      <td>102 - 99 ARBOUR LAKE RD NW, Calgary, AB, T3G 4E4</td>\n",
       "      <td>119800</td>\n",
       "    </tr>\n",
       "    <tr>\n",
       "      <th>3</th>\n",
       "      <td>63 CRANARCH CIR SE, Calgary, AB, T3M 0S3</td>\n",
       "      <td>614900</td>\n",
       "    </tr>\n",
       "    <tr>\n",
       "      <th>4</th>\n",
       "      <td>32 COPPERPOND Close SE, Calgary, AB, T2Z 0Y9</td>\n",
       "      <td>329900</td>\n",
       "    </tr>\n",
       "  </tbody>\n",
       "</table>\n",
       "</div>"
      ],
      "text/plain": [
       "                                                  2   price\n",
       "0               4312 49 ST NE, Calgary, AB, T1Y 2Z3  329900\n",
       "1      3916 VANCOUVER CRES NW, Calgary, AB, T3A 0M1  464900\n",
       "2  102 - 99 ARBOUR LAKE RD NW, Calgary, AB, T3G 4E4  119800\n",
       "3          63 CRANARCH CIR SE, Calgary, AB, T3M 0S3  614900\n",
       "4      32 COPPERPOND Close SE, Calgary, AB, T2Z 0Y9  329900"
      ]
     },
     "execution_count": 3,
     "metadata": {},
     "output_type": "execute_result"
    }
   ],
   "source": [
    "address_df = pd.DataFrame(house_address)\n",
    "\n",
    "new_df = address_df[0].str.split(' ', 2, expand=True)\n",
    "new_df[\"price\"] = new_df[1].str.replace(\"$\", \"\")\n",
    "new_df[\"price\"] = new_df[\"price\"].str.replace(\",\", \"\")\n",
    "\n",
    "del new_df[0]\n",
    "del new_df[1]\n",
    "new_df.head()"
   ]
  },
  {
   "cell_type": "code",
   "execution_count": 22,
   "metadata": {},
   "outputs": [
    {
     "data": {
      "text/html": [
       "<div>\n",
       "<style scoped>\n",
       "    .dataframe tbody tr th:only-of-type {\n",
       "        vertical-align: middle;\n",
       "    }\n",
       "\n",
       "    .dataframe tbody tr th {\n",
       "        vertical-align: top;\n",
       "    }\n",
       "\n",
       "    .dataframe thead th {\n",
       "        text-align: right;\n",
       "    }\n",
       "</style>\n",
       "<table border=\"1\" class=\"dataframe\">\n",
       "  <thead>\n",
       "    <tr style=\"text-align: right;\">\n",
       "      <th></th>\n",
       "      <th>0</th>\n",
       "      <th>1</th>\n",
       "    </tr>\n",
       "  </thead>\n",
       "  <tbody>\n",
       "    <tr>\n",
       "      <th>0</th>\n",
       "      <td>9803 ELBOW DR SW</td>\n",
       "      <td>T2V 1M4</td>\n",
       "    </tr>\n",
       "    <tr>\n",
       "      <th>1</th>\n",
       "      <td>140 CITADEL CREST CIR NW</td>\n",
       "      <td>T3G 4G3</td>\n",
       "    </tr>\n",
       "    <tr>\n",
       "      <th>2</th>\n",
       "      <td>275 TARAVISTA ST NE</td>\n",
       "      <td>T3J 4S5</td>\n",
       "    </tr>\n",
       "    <tr>\n",
       "      <th>3</th>\n",
       "      <td>25 DOUGLASBANK RISE SE</td>\n",
       "      <td>T2Z 2C5</td>\n",
       "    </tr>\n",
       "    <tr>\n",
       "      <th>4</th>\n",
       "      <td>79 GALBRAITH DR SW</td>\n",
       "      <td>T3E 4Z5</td>\n",
       "    </tr>\n",
       "  </tbody>\n",
       "</table>\n",
       "</div>"
      ],
      "text/plain": [
       "                          0        1\n",
       "0          9803 ELBOW DR SW  T2V 1M4\n",
       "1  140 CITADEL CREST CIR NW  T3G 4G3\n",
       "2       275 TARAVISTA ST NE  T3J 4S5\n",
       "3    25 DOUGLASBANK RISE SE  T2Z 2C5\n",
       "4        79 GALBRAITH DR SW  T3E 4Z5"
      ]
     },
     "execution_count": 22,
     "metadata": {},
     "output_type": "execute_result"
    }
   ],
   "source": [
    "final_df = new_df[2].str.split(', Calgary, AB, ', expand=True)\n",
    "final_df.head()"
   ]
  },
  {
   "cell_type": "code",
   "execution_count": 23,
   "metadata": {},
   "outputs": [
    {
     "data": {
      "text/html": [
       "<div>\n",
       "<style scoped>\n",
       "    .dataframe tbody tr th:only-of-type {\n",
       "        vertical-align: middle;\n",
       "    }\n",
       "\n",
       "    .dataframe tbody tr th {\n",
       "        vertical-align: top;\n",
       "    }\n",
       "\n",
       "    .dataframe thead th {\n",
       "        text-align: right;\n",
       "    }\n",
       "</style>\n",
       "<table border=\"1\" class=\"dataframe\">\n",
       "  <thead>\n",
       "    <tr style=\"text-align: right;\">\n",
       "      <th></th>\n",
       "      <th>price</th>\n",
       "      <th>address</th>\n",
       "      <th>postal_code</th>\n",
       "    </tr>\n",
       "  </thead>\n",
       "  <tbody>\n",
       "    <tr>\n",
       "      <th>0</th>\n",
       "      <td>489900</td>\n",
       "      <td>9803 ELBOW DR SW</td>\n",
       "      <td>T2V 1M4</td>\n",
       "    </tr>\n",
       "    <tr>\n",
       "      <th>1</th>\n",
       "      <td>489000</td>\n",
       "      <td>140 CITADEL CREST CIR NW</td>\n",
       "      <td>T3G 4G3</td>\n",
       "    </tr>\n",
       "    <tr>\n",
       "      <th>2</th>\n",
       "      <td>449999</td>\n",
       "      <td>275 TARAVISTA ST NE</td>\n",
       "      <td>T3J 4S5</td>\n",
       "    </tr>\n",
       "    <tr>\n",
       "      <th>3</th>\n",
       "      <td>469900</td>\n",
       "      <td>25 DOUGLASBANK RISE SE</td>\n",
       "      <td>T2Z 2C5</td>\n",
       "    </tr>\n",
       "    <tr>\n",
       "      <th>4</th>\n",
       "      <td>351999</td>\n",
       "      <td>79 GALBRAITH DR SW</td>\n",
       "      <td>T3E 4Z5</td>\n",
       "    </tr>\n",
       "  </tbody>\n",
       "</table>\n",
       "</div>"
      ],
      "text/plain": [
       "    price                   address postal_code\n",
       "0  489900          9803 ELBOW DR SW     T2V 1M4\n",
       "1  489000  140 CITADEL CREST CIR NW     T3G 4G3\n",
       "2  449999       275 TARAVISTA ST NE     T3J 4S5\n",
       "3  469900    25 DOUGLASBANK RISE SE     T2Z 2C5\n",
       "4  351999        79 GALBRAITH DR SW     T3E 4Z5"
      ]
     },
     "execution_count": 23,
     "metadata": {},
     "output_type": "execute_result"
    }
   ],
   "source": [
    "df_add = pd.concat([new_df, final_df], axis=1)\n",
    "del df_add[2]\n",
    "df_add.columns = [\"price\", \"address\", \"postal_code\"]\n",
    "df_add.head()"
   ]
  },
  {
   "cell_type": "code",
   "execution_count": 24,
   "metadata": {},
   "outputs": [
    {
     "data": {
      "text/html": [
       "<div>\n",
       "<style scoped>\n",
       "    .dataframe tbody tr th:only-of-type {\n",
       "        vertical-align: middle;\n",
       "    }\n",
       "\n",
       "    .dataframe tbody tr th {\n",
       "        vertical-align: top;\n",
       "    }\n",
       "\n",
       "    .dataframe thead th {\n",
       "        text-align: right;\n",
       "    }\n",
       "</style>\n",
       "<table border=\"1\" class=\"dataframe\">\n",
       "  <thead>\n",
       "    <tr style=\"text-align: right;\">\n",
       "      <th></th>\n",
       "      <th>bedrooms</th>\n",
       "      <th>bath</th>\n",
       "      <th>property_type</th>\n",
       "    </tr>\n",
       "  </thead>\n",
       "  <tbody>\n",
       "    <tr>\n",
       "      <th>0</th>\n",
       "      <td>4 bed</td>\n",
       "      <td>2 bath</td>\n",
       "      <td>house</td>\n",
       "    </tr>\n",
       "    <tr>\n",
       "      <th>1</th>\n",
       "      <td>3 bed</td>\n",
       "      <td>2 + 1 bath</td>\n",
       "      <td>house</td>\n",
       "    </tr>\n",
       "    <tr>\n",
       "      <th>2</th>\n",
       "      <td>5 bed</td>\n",
       "      <td>2 + 1 bath</td>\n",
       "      <td>house</td>\n",
       "    </tr>\n",
       "    <tr>\n",
       "      <th>3</th>\n",
       "      <td>4 bed</td>\n",
       "      <td>2 + 1 bath</td>\n",
       "      <td>house</td>\n",
       "    </tr>\n",
       "    <tr>\n",
       "      <th>4</th>\n",
       "      <td>N/A bed</td>\n",
       "      <td>N/A bath</td>\n",
       "      <td>house</td>\n",
       "    </tr>\n",
       "  </tbody>\n",
       "</table>\n",
       "</div>"
      ],
      "text/plain": [
       "  bedrooms        bath property_type\n",
       "0    4 bed      2 bath         house\n",
       "1    3 bed  2 + 1 bath         house\n",
       "2    5 bed  2 + 1 bath         house\n",
       "3    4 bed  2 + 1 bath         house\n",
       "4  N/A bed    N/A bath         house"
      ]
     },
     "execution_count": 24,
     "metadata": {},
     "output_type": "execute_result"
    }
   ],
   "source": [
    "details = pd.DataFrame(house_details)\n",
    "\n",
    "details_df = details[0].str.split('|', expand=True)\n",
    "details_df\n",
    "\n",
    "del details_df[2]\n",
    "\n",
    "details_df.columns = [\"bedrooms\", \"bath\", \"property_type\"]\n",
    "details_df.head()"
   ]
  },
  {
   "cell_type": "code",
   "execution_count": 25,
   "metadata": {},
   "outputs": [
    {
     "data": {
      "text/html": [
       "<div>\n",
       "<style scoped>\n",
       "    .dataframe tbody tr th:only-of-type {\n",
       "        vertical-align: middle;\n",
       "    }\n",
       "\n",
       "    .dataframe tbody tr th {\n",
       "        vertical-align: top;\n",
       "    }\n",
       "\n",
       "    .dataframe thead th {\n",
       "        text-align: right;\n",
       "    }\n",
       "</style>\n",
       "<table border=\"1\" class=\"dataframe\">\n",
       "  <thead>\n",
       "    <tr style=\"text-align: right;\">\n",
       "      <th></th>\n",
       "      <th>price</th>\n",
       "      <th>address</th>\n",
       "      <th>postal_code</th>\n",
       "      <th>bedrooms</th>\n",
       "      <th>bath</th>\n",
       "      <th>property_type</th>\n",
       "    </tr>\n",
       "  </thead>\n",
       "  <tbody>\n",
       "    <tr>\n",
       "      <th>0</th>\n",
       "      <td>489900</td>\n",
       "      <td>9803 ELBOW DR SW</td>\n",
       "      <td>T2V 1M4</td>\n",
       "      <td>4 bed</td>\n",
       "      <td>2 bath</td>\n",
       "      <td>house</td>\n",
       "    </tr>\n",
       "    <tr>\n",
       "      <th>1</th>\n",
       "      <td>489000</td>\n",
       "      <td>140 CITADEL CREST CIR NW</td>\n",
       "      <td>T3G 4G3</td>\n",
       "      <td>3 bed</td>\n",
       "      <td>2 + 1 bath</td>\n",
       "      <td>house</td>\n",
       "    </tr>\n",
       "    <tr>\n",
       "      <th>2</th>\n",
       "      <td>449999</td>\n",
       "      <td>275 TARAVISTA ST NE</td>\n",
       "      <td>T3J 4S5</td>\n",
       "      <td>5 bed</td>\n",
       "      <td>2 + 1 bath</td>\n",
       "      <td>house</td>\n",
       "    </tr>\n",
       "    <tr>\n",
       "      <th>3</th>\n",
       "      <td>469900</td>\n",
       "      <td>25 DOUGLASBANK RISE SE</td>\n",
       "      <td>T2Z 2C5</td>\n",
       "      <td>4 bed</td>\n",
       "      <td>2 + 1 bath</td>\n",
       "      <td>house</td>\n",
       "    </tr>\n",
       "    <tr>\n",
       "      <th>4</th>\n",
       "      <td>351999</td>\n",
       "      <td>79 GALBRAITH DR SW</td>\n",
       "      <td>T3E 4Z5</td>\n",
       "      <td>N/A bed</td>\n",
       "      <td>N/A bath</td>\n",
       "      <td>house</td>\n",
       "    </tr>\n",
       "  </tbody>\n",
       "</table>\n",
       "</div>"
      ],
      "text/plain": [
       "    price                   address postal_code bedrooms        bath  \\\n",
       "0  489900          9803 ELBOW DR SW     T2V 1M4    4 bed      2 bath   \n",
       "1  489000  140 CITADEL CREST CIR NW     T3G 4G3    3 bed  2 + 1 bath   \n",
       "2  449999       275 TARAVISTA ST NE     T3J 4S5    5 bed  2 + 1 bath   \n",
       "3  469900    25 DOUGLASBANK RISE SE     T2Z 2C5    4 bed  2 + 1 bath   \n",
       "4  351999        79 GALBRAITH DR SW     T3E 4Z5  N/A bed    N/A bath   \n",
       "\n",
       "  property_type  \n",
       "0         house  \n",
       "1         house  \n",
       "2         house  \n",
       "3         house  \n",
       "4         house  "
      ]
     },
     "execution_count": 25,
     "metadata": {},
     "output_type": "execute_result"
    }
   ],
   "source": [
    "calgary_df = pd.concat([df_add, details_df], axis=1)\n",
    "calgary_df.head()"
   ]
  },
  {
   "cell_type": "code",
   "execution_count": 26,
   "metadata": {},
   "outputs": [],
   "source": [
    "calgary_df.to_csv('calgary_df.csv', encoding=\"utf-8\")"
   ]
  },
  {
   "cell_type": "markdown",
   "metadata": {},
   "source": [
    "----------------"
   ]
  },
  {
   "cell_type": "markdown",
   "metadata": {},
   "source": [
    "### Walk Score"
   ]
  },
  {
   "cell_type": "code",
   "execution_count": 27,
   "metadata": {},
   "outputs": [],
   "source": [
    "post_code_list = []\n",
    "\n",
    "for i in calgary_df[\"postal_code\"]:\n",
    "    post_code_list.append(i)"
   ]
  },
  {
   "cell_type": "code",
   "execution_count": 28,
   "metadata": {},
   "outputs": [],
   "source": [
    "scores_walk = []\n",
    "scores_bike = []\n",
    "scores_transit = []\n",
    "\n",
    "for i in post_code_list:\n",
    "    postal_code = i.replace(\" \", \"%20\")\n",
    "    url_score = \"https://www.walkscore.com/score/\" + str(postal_code)\n",
    "\n",
    "    time.sleep(2)\n",
    "\n",
    "    # Parse HTML with Beautiful Soup\n",
    "    response = requests.get(url_score)\n",
    "    code_soup = BeautifulSoup(response.text, 'html.parser')\n",
    "\n",
    "    try:\n",
    "        if 'pp.walk.sc/badge/walk/score' in str(code_soup):\n",
    "            ws = str(code_soup).split('pp.walk.sc/badge/walk/score/')[1][:2].replace('.','')\n",
    "            scores_walk.append(ws)\n",
    "        else:\n",
    "            ws = 'N/A'\n",
    "            scores_walk.append(ws)\n",
    "        if 'pp.walk.sc/badge/bike/score' in str(code_soup):\n",
    "            bs = str(code_soup).split('pp.walk.sc/badge/bike/score/')[1][:2].replace('.','')\n",
    "            scores_bike.append(bs)\n",
    "        else:\n",
    "            bs = 'N/A'\n",
    "            scores_bike.append(bs)\n",
    "        if 'pp.walk.sc/badge/transit/score' in str(code_soup):\n",
    "            ts = str(code_soup).split('pp.walk.sc/badge/transit/score/')[1][:2].replace('.','')\n",
    "            scores_transit.append(ts)\n",
    "        else:\n",
    "            ts = 'N/A'\n",
    "            scores_transit.append(ts)\n",
    "    except:\n",
    "        ws = 'N/A'\n",
    "        scores_walk.append(ws)\n",
    "        bs = 'N/A'\n",
    "        scores_bike.append(bs)\n",
    "        ts = 'N/A'\n",
    "        scores_transit.append(ts)"
   ]
  },
  {
   "cell_type": "code",
   "execution_count": 29,
   "metadata": {},
   "outputs": [
    {
     "data": {
      "text/html": [
       "<div>\n",
       "<style scoped>\n",
       "    .dataframe tbody tr th:only-of-type {\n",
       "        vertical-align: middle;\n",
       "    }\n",
       "\n",
       "    .dataframe tbody tr th {\n",
       "        vertical-align: top;\n",
       "    }\n",
       "\n",
       "    .dataframe thead th {\n",
       "        text-align: right;\n",
       "    }\n",
       "</style>\n",
       "<table border=\"1\" class=\"dataframe\">\n",
       "  <thead>\n",
       "    <tr style=\"text-align: right;\">\n",
       "      <th></th>\n",
       "      <th>postal_code</th>\n",
       "      <th>walk_score</th>\n",
       "      <th>bike_score</th>\n",
       "      <th>transit_score</th>\n",
       "    </tr>\n",
       "  </thead>\n",
       "  <tbody>\n",
       "    <tr>\n",
       "      <th>0</th>\n",
       "      <td>T2V 1M4</td>\n",
       "      <td>58</td>\n",
       "      <td>61</td>\n",
       "      <td>55</td>\n",
       "    </tr>\n",
       "    <tr>\n",
       "      <th>1</th>\n",
       "      <td>T3G 4G3</td>\n",
       "      <td>23</td>\n",
       "      <td>65</td>\n",
       "      <td>38</td>\n",
       "    </tr>\n",
       "    <tr>\n",
       "      <th>2</th>\n",
       "      <td>T3J 4S5</td>\n",
       "      <td>10</td>\n",
       "      <td>62</td>\n",
       "      <td>49</td>\n",
       "    </tr>\n",
       "    <tr>\n",
       "      <th>3</th>\n",
       "      <td>T2Z 2C5</td>\n",
       "      <td>22</td>\n",
       "      <td>65</td>\n",
       "      <td>41</td>\n",
       "    </tr>\n",
       "    <tr>\n",
       "      <th>4</th>\n",
       "      <td>T3E 4Z5</td>\n",
       "      <td>43</td>\n",
       "      <td>67</td>\n",
       "      <td>47</td>\n",
       "    </tr>\n",
       "  </tbody>\n",
       "</table>\n",
       "</div>"
      ],
      "text/plain": [
       "  postal_code walk_score bike_score transit_score\n",
       "0     T2V 1M4         58         61            55\n",
       "1     T3G 4G3         23         65            38\n",
       "2     T3J 4S5         10         62            49\n",
       "3     T2Z 2C5         22         65            41\n",
       "4     T3E 4Z5         43         67            47"
      ]
     },
     "execution_count": 29,
     "metadata": {},
     "output_type": "execute_result"
    }
   ],
   "source": [
    "score_df_trans = {'postal_code':post_code_list, 'walk_score':scores_walk, 'bike_score':scores_bike, 'transit_score':scores_transit}\n",
    "score_df = pd.DataFrame(score_df_trans)\n",
    "score_df.head()"
   ]
  },
  {
   "cell_type": "code",
   "execution_count": null,
   "metadata": {},
   "outputs": [],
   "source": []
  }
 ],
 "metadata": {
  "kernelspec": {
   "display_name": "Python 3",
   "language": "python",
   "name": "python3"
  },
  "language_info": {
   "codemirror_mode": {
    "name": "ipython",
    "version": 3
   },
   "file_extension": ".py",
   "mimetype": "text/x-python",
   "name": "python",
   "nbconvert_exporter": "python",
   "pygments_lexer": "ipython3",
   "version": "3.7.3"
  }
 },
 "nbformat": 4,
 "nbformat_minor": 2
}
